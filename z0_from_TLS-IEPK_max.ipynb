{
 "cells": [
  {
   "cell_type": "code",
   "execution_count": 1,
   "id": "ef5ed08a",
   "metadata": {},
   "outputs": [],
   "source": [
    "import numpy as np\n",
    "import pandas as pd\n",
    "import matplotlib.pyplot as plt\n",
    "import time"
   ]
  },
  {
   "cell_type": "code",
   "execution_count": 2,
   "id": "960cc6c4",
   "metadata": {},
   "outputs": [],
   "source": [
    "df = pd.read_csv(\"IEPK_TLS_10x10.xyzch\")"
   ]
  },
  {
   "cell_type": "code",
   "execution_count": 3,
   "id": "2e81bfe1",
   "metadata": {},
   "outputs": [
    {
     "data": {
      "text/html": [
       "<div>\n",
       "<style scoped>\n",
       "    .dataframe tbody tr th:only-of-type {\n",
       "        vertical-align: middle;\n",
       "    }\n",
       "\n",
       "    .dataframe tbody tr th {\n",
       "        vertical-align: top;\n",
       "    }\n",
       "\n",
       "    .dataframe thead th {\n",
       "        text-align: right;\n",
       "    }\n",
       "</style>\n",
       "<table border=\"1\" class=\"dataframe\">\n",
       "  <thead>\n",
       "    <tr style=\"text-align: right;\">\n",
       "      <th></th>\n",
       "      <th>X</th>\n",
       "      <th>Y</th>\n",
       "      <th>Z</th>\n",
       "      <th>Classification</th>\n",
       "      <th>HeightAboveGround</th>\n",
       "    </tr>\n",
       "  </thead>\n",
       "  <tbody>\n",
       "    <tr>\n",
       "      <th>6131801</th>\n",
       "      <td>246564.081</td>\n",
       "      <td>168985.319</td>\n",
       "      <td>0.313</td>\n",
       "      <td>2.0</td>\n",
       "      <td>0.000</td>\n",
       "    </tr>\n",
       "    <tr>\n",
       "      <th>3119412</th>\n",
       "      <td>246566.145</td>\n",
       "      <td>168982.611</td>\n",
       "      <td>0.215</td>\n",
       "      <td>2.0</td>\n",
       "      <td>0.000</td>\n",
       "    </tr>\n",
       "    <tr>\n",
       "      <th>27392917</th>\n",
       "      <td>246561.987</td>\n",
       "      <td>168991.125</td>\n",
       "      <td>0.856</td>\n",
       "      <td>2.0</td>\n",
       "      <td>0.000</td>\n",
       "    </tr>\n",
       "    <tr>\n",
       "      <th>16081707</th>\n",
       "      <td>246565.698</td>\n",
       "      <td>168985.104</td>\n",
       "      <td>3.485</td>\n",
       "      <td>1.0</td>\n",
       "      <td>3.245</td>\n",
       "    </tr>\n",
       "    <tr>\n",
       "      <th>11755592</th>\n",
       "      <td>246564.372</td>\n",
       "      <td>168983.094</td>\n",
       "      <td>2.040</td>\n",
       "      <td>1.0</td>\n",
       "      <td>1.030</td>\n",
       "    </tr>\n",
       "    <tr>\n",
       "      <th>23478527</th>\n",
       "      <td>246559.586</td>\n",
       "      <td>168989.617</td>\n",
       "      <td>0.401</td>\n",
       "      <td>2.0</td>\n",
       "      <td>0.000</td>\n",
       "    </tr>\n",
       "    <tr>\n",
       "      <th>26580679</th>\n",
       "      <td>246561.911</td>\n",
       "      <td>168990.047</td>\n",
       "      <td>0.700</td>\n",
       "      <td>2.0</td>\n",
       "      <td>0.000</td>\n",
       "    </tr>\n",
       "    <tr>\n",
       "      <th>11328050</th>\n",
       "      <td>246562.239</td>\n",
       "      <td>168983.062</td>\n",
       "      <td>1.854</td>\n",
       "      <td>1.0</td>\n",
       "      <td>1.516</td>\n",
       "    </tr>\n",
       "    <tr>\n",
       "      <th>3436190</th>\n",
       "      <td>246565.973</td>\n",
       "      <td>168983.299</td>\n",
       "      <td>0.217</td>\n",
       "      <td>2.0</td>\n",
       "      <td>0.000</td>\n",
       "    </tr>\n",
       "    <tr>\n",
       "      <th>3655077</th>\n",
       "      <td>246566.862</td>\n",
       "      <td>168983.217</td>\n",
       "      <td>0.380</td>\n",
       "      <td>2.0</td>\n",
       "      <td>0.000</td>\n",
       "    </tr>\n",
       "  </tbody>\n",
       "</table>\n",
       "</div>"
      ],
      "text/plain": [
       "                   X           Y      Z  Classification  HeightAboveGround\n",
       "6131801   246564.081  168985.319  0.313             2.0              0.000\n",
       "3119412   246566.145  168982.611  0.215             2.0              0.000\n",
       "27392917  246561.987  168991.125  0.856             2.0              0.000\n",
       "16081707  246565.698  168985.104  3.485             1.0              3.245\n",
       "11755592  246564.372  168983.094  2.040             1.0              1.030\n",
       "23478527  246559.586  168989.617  0.401             2.0              0.000\n",
       "26580679  246561.911  168990.047  0.700             2.0              0.000\n",
       "11328050  246562.239  168983.062  1.854             1.0              1.516\n",
       "3436190   246565.973  168983.299  0.217             2.0              0.000\n",
       "3655077   246566.862  168983.217  0.380             2.0              0.000"
      ]
     },
     "execution_count": 3,
     "metadata": {},
     "output_type": "execute_result"
    }
   ],
   "source": [
    "df.sample(10)"
   ]
  },
  {
   "cell_type": "code",
   "execution_count": 4,
   "id": "d9b8d455",
   "metadata": {},
   "outputs": [
    {
     "data": {
      "text/plain": [
       "31757686"
      ]
     },
     "execution_count": 4,
     "metadata": {},
     "output_type": "execute_result"
    }
   ],
   "source": [
    "df.count()[0]"
   ]
  },
  {
   "cell_type": "code",
   "execution_count": 5,
   "id": "dc5a2210",
   "metadata": {},
   "outputs": [],
   "source": [
    "df = df.sample(30000000)"
   ]
  },
  {
   "cell_type": "code",
   "execution_count": 6,
   "id": "1202de4a",
   "metadata": {},
   "outputs": [
    {
     "data": {
      "text/plain": [
       "30000000"
      ]
     },
     "execution_count": 6,
     "metadata": {},
     "output_type": "execute_result"
    }
   ],
   "source": [
    "df.count()[0]"
   ]
  },
  {
   "cell_type": "code",
   "execution_count": 7,
   "id": "232c7650",
   "metadata": {},
   "outputs": [
    {
     "name": "stdout",
     "output_type": "stream",
     "text": [
      "246568.61 246558.61 168991.47 168981.47 14.744 0.123\n"
     ]
    }
   ],
   "source": [
    "x_max = df.X.max()\n",
    "x_min = df.X.min()\n",
    "y_max = df.Y.max()\n",
    "y_min = df.Y.min()\n",
    "z_max = df.Z.max()\n",
    "z_min = df.Z.min()\n",
    "print(x_max, x_min, y_max, y_min, z_max, z_min)"
   ]
  },
  {
   "cell_type": "code",
   "execution_count": 8,
   "id": "2aa24c92",
   "metadata": {},
   "outputs": [
    {
     "name": "stdout",
     "output_type": "stream",
     "text": [
      "0.01 1.938 +/- 0.021 >>> took 1.0 minutes\n",
      "0.12 2.219 +/- 0.015 >>> took 13.0 minutes\n",
      "0.23 2.256 +/- 0.009 >>> took 26.0 minutes\n",
      "0.34 2.278 +/- 0.011 >>> took 28.0 minutes\n",
      "0.45 2.29 +/- 0.008 >>> took 45.0 minutes\n",
      "0.56 2.295 +/- 0.008 >>> took 54.0 minutes\n",
      "0.67 2.301 +/- 0.006 >>> took 65.0 minutes\n",
      "0.78 2.305 +/- 0.005 >>> took 76.0 minutes\n",
      "0.89 2.31 +/- 0.002 >>> took 48.0 minutes\n",
      "1.0 2.314 +/- 0.0 >>> took 5.0 minutes\n",
      "H* = 10.90268   S* = 636.8459475218658   A* = 1500.0   z0 = 2.3144425250425655\n"
     ]
    }
   ],
   "source": [
    "# c = 0\n",
    "site_L = x_max - x_min\n",
    "site_W = y_max - y_min\n",
    "site_A = site_L * site_W\n",
    "voxel_dim = 1.0\n",
    "\n",
    "replicates = []\n",
    "for frac in np.around(np.linspace(0.01,1,10),2):\n",
    "    start = time.time()\n",
    "    z0_list = []\n",
    "    for rep in range(10):\n",
    "        window_max_h = []\n",
    "        voxel_count = []\n",
    "        voxels = 0\n",
    "        df_s = df.sample(frac=frac, replace=False)\n",
    "        pts = df_s.count()[0]\n",
    "        for i in np.arange(x_min, x_max, voxel_dim):\n",
    "            for j in np.arange(y_min, y_max, voxel_dim):\n",
    "                df_window = df_s[(df_s['X'].between(i, i+voxel_dim)) &\n",
    "                                 (df_s['Y'].between(j, j+voxel_dim))]\n",
    "                window_max_h.append(df_window.HeightAboveGround.max())\n",
    "                for k in np.arange(z_min, z_max, voxel_dim):\n",
    "                    df_voxel = df_s[(df_s['X'].between(i, i+voxel_dim)) &\n",
    "                                    (df_s['Y'].between(j, j+voxel_dim)) &\n",
    "                                    (df_s['Z'].between(k, k+voxel_dim))]\n",
    "                    voxel_count.append(df_voxel.count()[0])\n",
    "                    voxels += 1\n",
    "        mu = np.median([c for c in voxel_count if c != 0])\n",
    "        vi = [min(p/mu,1.0)*voxel_dim**3 for p in voxel_count]\n",
    "        S_star = np.sum(vi)\n",
    "        A_star = voxels * voxel_dim**3\n",
    "        H_star = np.mean(window_max_h)\n",
    "        z0_list.append(0.5*H_star*S_star/A_star)\n",
    "        if frac == 1.0: break\n",
    "    replicates.append([frac, z0_list, pts, pts/site_A, voxels])\n",
    "    end = time.time()\n",
    "    print(f\"{frac} {np.around(np.mean(z0_list),3)} +/- {np.around(np.std(z0_list),3)} >>> took {np.around((end - start)/60.0,0)} minutes\")\n",
    "\n",
    "# print results using densest (last) point cloud\n",
    "print(f\"H* = {H_star}   S* = {S_star}   A* = {A_star}   z0 = {0.5*H_star*S_star/A_star}\")"
   ]
  },
  {
   "cell_type": "code",
   "execution_count": 9,
   "id": "46e554cc",
   "metadata": {},
   "outputs": [
    {
     "data": {
      "image/png": "[encoded data removed]",
      "text/plain": [
       "<Figure size 640x480 with 1 Axes>"
      ]
     },
     "metadata": {},
     "output_type": "display_data"
    }
   ],
   "source": [
    "# check plot, not for publication\n",
    "fig, ax = plt.subplots()\n",
    "ax.boxplot([y[1] for y in replicates],\n",
    "           notch=True,  # notch shape\n",
    "           vert=True,  # vertical box alignment\n",
    "           labels=[x[0] for x in replicates]);"
   ]
  },
  {
   "cell_type": "code",
   "execution_count": 10,
   "id": "098fa598",
   "metadata": {},
   "outputs": [],
   "source": [
    "# export results for plotting in another notebook\n",
    "with open('IEPK_replicates_max', 'w') as outfile:\n",
    "    outfile.write('\\n'.join(str(i) for i in replicates))\n",
    "    \n",
    "# once this was complete, commas were manually inserted in the last row (frac = 1.0)\n",
    "# so that fields r1 through r9, representing replicates 2 through 10, would match\n",
    "# the overall schema."
   ]
  }
 ],
 "metadata": {
  "kernelspec": {
   "display_name": "Python3 (mangrove)",
   "language": "python",
   "name": "mangrove"
  },
  "language_info": {
   "codemirror_mode": {
    "name": "ipython",
    "version": 3
   },
   "file_extension": ".py",
   "mimetype": "text/x-python",
   "name": "python",
   "nbconvert_exporter": "python",
   "pygments_lexer": "ipython3",
   "version": "3.11.4"
  }
 },
 "nbformat": 4,
 "nbformat_minor": 5
}
