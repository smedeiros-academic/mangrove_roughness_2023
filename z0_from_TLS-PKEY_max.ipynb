{
 "cells": [
  {
   "cell_type": "code",
   "execution_count": 1,
   "id": "ef5ed08a",
   "metadata": {},
   "outputs": [],
   "source": [
    "import numpy as np\n",
    "import pandas as pd\n",
    "import matplotlib.pyplot as plt\n",
    "import time"
   ]
  },
  {
   "cell_type": "code",
   "execution_count": 2,
   "id": "960cc6c4",
   "metadata": {},
   "outputs": [],
   "source": [
    "df = pd.read_csv(\"PKEY_TLS_10x10.xyzch\")"
   ]
  },
  {
   "cell_type": "code",
   "execution_count": 3,
   "id": "2e81bfe1",
   "metadata": {},
   "outputs": [
    {
     "data": {
      "text/html": [
       "<div>\n",
       "<style scoped>\n",
       "    .dataframe tbody tr th:only-of-type {\n",
       "        vertical-align: middle;\n",
       "    }\n",
       "\n",
       "    .dataframe tbody tr th {\n",
       "        vertical-align: top;\n",
       "    }\n",
       "\n",
       "    .dataframe thead th {\n",
       "        text-align: right;\n",
       "    }\n",
       "</style>\n",
       "<table border=\"1\" class=\"dataframe\">\n",
       "  <thead>\n",
       "    <tr style=\"text-align: right;\">\n",
       "      <th></th>\n",
       "      <th>X</th>\n",
       "      <th>Y</th>\n",
       "      <th>Z</th>\n",
       "      <th>Classification</th>\n",
       "      <th>HeightAboveGround</th>\n",
       "    </tr>\n",
       "  </thead>\n",
       "  <tbody>\n",
       "    <tr>\n",
       "      <th>4561442</th>\n",
       "      <td>246115.429</td>\n",
       "      <td>168839.793</td>\n",
       "      <td>2.042</td>\n",
       "      <td>1.0</td>\n",
       "      <td>3.087</td>\n",
       "    </tr>\n",
       "    <tr>\n",
       "      <th>36580811</th>\n",
       "      <td>246120.631</td>\n",
       "      <td>168848.738</td>\n",
       "      <td>-1.103</td>\n",
       "      <td>2.0</td>\n",
       "      <td>0.000</td>\n",
       "    </tr>\n",
       "    <tr>\n",
       "      <th>47325733</th>\n",
       "      <td>246119.647</td>\n",
       "      <td>168849.016</td>\n",
       "      <td>4.042</td>\n",
       "      <td>1.0</td>\n",
       "      <td>5.140</td>\n",
       "    </tr>\n",
       "    <tr>\n",
       "      <th>2560154</th>\n",
       "      <td>246116.809</td>\n",
       "      <td>168841.071</td>\n",
       "      <td>-1.046</td>\n",
       "      <td>2.0</td>\n",
       "      <td>0.000</td>\n",
       "    </tr>\n",
       "    <tr>\n",
       "      <th>41832589</th>\n",
       "      <td>246122.435</td>\n",
       "      <td>168841.008</td>\n",
       "      <td>4.766</td>\n",
       "      <td>1.0</td>\n",
       "      <td>5.796</td>\n",
       "    </tr>\n",
       "    <tr>\n",
       "      <th>7035816</th>\n",
       "      <td>246121.486</td>\n",
       "      <td>168839.757</td>\n",
       "      <td>0.617</td>\n",
       "      <td>1.0</td>\n",
       "      <td>1.728</td>\n",
       "    </tr>\n",
       "    <tr>\n",
       "      <th>26875586</th>\n",
       "      <td>246122.223</td>\n",
       "      <td>168842.769</td>\n",
       "      <td>-1.006</td>\n",
       "      <td>2.0</td>\n",
       "      <td>0.000</td>\n",
       "    </tr>\n",
       "    <tr>\n",
       "      <th>42577940</th>\n",
       "      <td>246122.093</td>\n",
       "      <td>168842.263</td>\n",
       "      <td>4.322</td>\n",
       "      <td>1.0</td>\n",
       "      <td>5.092</td>\n",
       "    </tr>\n",
       "    <tr>\n",
       "      <th>3131928</th>\n",
       "      <td>246116.663</td>\n",
       "      <td>168841.469</td>\n",
       "      <td>-1.060</td>\n",
       "      <td>2.0</td>\n",
       "      <td>0.000</td>\n",
       "    </tr>\n",
       "    <tr>\n",
       "      <th>17221960</th>\n",
       "      <td>246121.071</td>\n",
       "      <td>168842.334</td>\n",
       "      <td>3.035</td>\n",
       "      <td>1.0</td>\n",
       "      <td>4.038</td>\n",
       "    </tr>\n",
       "  </tbody>\n",
       "</table>\n",
       "</div>"
      ],
      "text/plain": [
       "                   X           Y      Z  Classification  HeightAboveGround\n",
       "4561442   246115.429  168839.793  2.042             1.0              3.087\n",
       "36580811  246120.631  168848.738 -1.103             2.0              0.000\n",
       "47325733  246119.647  168849.016  4.042             1.0              5.140\n",
       "2560154   246116.809  168841.071 -1.046             2.0              0.000\n",
       "41832589  246122.435  168841.008  4.766             1.0              5.796\n",
       "7035816   246121.486  168839.757  0.617             1.0              1.728\n",
       "26875586  246122.223  168842.769 -1.006             2.0              0.000\n",
       "42577940  246122.093  168842.263  4.322             1.0              5.092\n",
       "3131928   246116.663  168841.469 -1.060             2.0              0.000\n",
       "17221960  246121.071  168842.334  3.035             1.0              4.038"
      ]
     },
     "execution_count": 3,
     "metadata": {},
     "output_type": "execute_result"
    }
   ],
   "source": [
    "df.sample(10)"
   ]
  },
  {
   "cell_type": "code",
   "execution_count": 4,
   "id": "d9b8d455",
   "metadata": {},
   "outputs": [
    {
     "data": {
      "text/plain": [
       "48537757"
      ]
     },
     "execution_count": 4,
     "metadata": {},
     "output_type": "execute_result"
    }
   ],
   "source": [
    "df.count()[0]"
   ]
  },
  {
   "cell_type": "code",
   "execution_count": 5,
   "id": "f0394a7a",
   "metadata": {},
   "outputs": [],
   "source": [
    "df = df.sample(30000000)"
   ]
  },
  {
   "cell_type": "code",
   "execution_count": 6,
   "id": "1e3503e4",
   "metadata": {},
   "outputs": [
    {
     "data": {
      "text/plain": [
       "30000000"
      ]
     },
     "execution_count": 6,
     "metadata": {},
     "output_type": "execute_result"
    }
   ],
   "source": [
    "df.count()[0]"
   ]
  },
  {
   "cell_type": "code",
   "execution_count": 7,
   "id": "232c7650",
   "metadata": {},
   "outputs": [
    {
     "name": "stdout",
     "output_type": "stream",
     "text": [
      "246124.59 246114.59 168849.55 168839.55 9.441 -1.259\n"
     ]
    }
   ],
   "source": [
    "x_max = df.X.max()\n",
    "x_min = df.X.min()\n",
    "y_max = df.Y.max()\n",
    "y_min = df.Y.min()\n",
    "z_max = df.Z.max()\n",
    "z_min = df.Z.min()\n",
    "print(x_max, x_min, y_max, y_min, z_max, z_min)"
   ]
  },
  {
   "cell_type": "code",
   "execution_count": 8,
   "id": "2aa24c92",
   "metadata": {},
   "outputs": [
    {
     "name": "stdout",
     "output_type": "stream",
     "text": [
      "0.01 2.269 +/- 0.019 >>> took 1.0 minutes\n",
      "0.12 2.431 +/- 0.005 >>> took 11.0 minutes\n",
      "0.23 2.449 +/- 0.006 >>> took 19.0 minutes\n",
      "0.34 2.458 +/- 0.005 >>> took 22.0 minutes\n",
      "0.45 2.466 +/- 0.003 >>> took 35.0 minutes\n",
      "0.56 2.469 +/- 0.005 >>> took 42.0 minutes\n",
      "0.67 2.473 +/- 0.004 >>> took 51.0 minutes\n",
      "0.78 2.476 +/- 0.003 >>> took 57.0 minutes\n",
      "0.89 2.48 +/- 0.001 >>> took 64.0 minutes\n",
      "1.0 2.481 +/- 0.0 >>> took 7.0 minutes\n",
      "H* = 9.00897   S* = 605.880421382943   A* = 1100.0   z0 = 2.4810720635574057\n"
     ]
    }
   ],
   "source": [
    "# c = 0\n",
    "site_L = x_max - x_min\n",
    "site_W = y_max - y_min\n",
    "site_A = site_L * site_W\n",
    "voxel_dim = 1.0\n",
    "\n",
    "replicates = []\n",
    "for frac in np.around(np.linspace(0.01,1,10),2):\n",
    "    start = time.time()\n",
    "    z0_list = []\n",
    "    for rep in range(10):\n",
    "        window_max_h = []\n",
    "        voxel_count = []\n",
    "        voxels = 0\n",
    "        df_s = df.sample(frac=frac, replace=False)\n",
    "        pts = df_s.count()[0]\n",
    "        for i in np.arange(x_min, x_max, voxel_dim):\n",
    "            for j in np.arange(y_min, y_max, voxel_dim):\n",
    "                df_window = df_s[(df_s['X'].between(i, i+voxel_dim)) &\n",
    "                                 (df_s['Y'].between(j, j+voxel_dim))]\n",
    "                window_max_h.append(df_window.HeightAboveGround.max())\n",
    "                for k in np.arange(z_min, z_max, voxel_dim):\n",
    "                    df_voxel = df_s[(df_s['X'].between(i, i+voxel_dim)) &\n",
    "                                    (df_s['Y'].between(j, j+voxel_dim)) &\n",
    "                                    (df_s['Z'].between(k, k+voxel_dim))]\n",
    "                    voxel_count.append(df_voxel.count()[0])\n",
    "                    voxels += 1\n",
    "        mu = np.median([c for c in voxel_count if c != 0])\n",
    "        vi = [min(p/mu,1.0)*voxel_dim**3 for p in voxel_count]\n",
    "        S_star = np.sum(vi)\n",
    "        A_star = voxels * voxel_dim**3\n",
    "        H_star = np.mean(window_max_h)\n",
    "        z0_list.append(0.5*H_star*S_star/A_star)\n",
    "        if frac == 1.0: break\n",
    "    replicates.append([frac, z0_list, pts, pts/site_A, voxels])\n",
    "    end = time.time()\n",
    "    print(f\"{frac} {np.around(np.mean(z0_list),3)} +/- {np.around(np.std(z0_list),3)} >>> took {np.around((end - start)/60.0,0)} minutes\") \n",
    "\n",
    "# print results using densest (last) point cloud\n",
    "print(f\"H* = {H_star}   S* = {S_star}   A* = {A_star}   z0 = {0.5*H_star*S_star/A_star}\")"
   ]
  },
  {
   "cell_type": "code",
   "execution_count": 9,
   "id": "46e554cc",
   "metadata": {},
   "outputs": [
    {
     "data": {
      "image/png": "[encoded data removed]",
      "text/plain": [
       "<Figure size 640x480 with 1 Axes>"
      ]
     },
     "metadata": {},
     "output_type": "display_data"
    }
   ],
   "source": [
    "# check plot, not for publication\n",
    "fig, ax = plt.subplots()\n",
    "ax.boxplot([y[1] for y in replicates],\n",
    "           notch=True,  # notch shape\n",
    "           vert=True,  # vertical box alignment\n",
    "           labels=[x[0] for x in replicates]);"
   ]
  },
  {
   "cell_type": "code",
   "execution_count": 10,
   "id": "098fa598",
   "metadata": {},
   "outputs": [],
   "source": [
    "# export results for plotting in another notebook\n",
    "with open('PKEY_replicates_max', 'w') as outfile:\n",
    "    outfile.write('\\n'.join(str(i) for i in replicates))\n",
    "    \n",
    "# once this was complete, commas were manually inserted in the last row (frac = 1.0)\n",
    "# so that fields r1 through r9, representing replicates 2 through 10, would match\n",
    "# the overall schema."
   ]
  }
 ],
 "metadata": {
  "kernelspec": {
   "display_name": "Python3 (mangrove)",
   "language": "python",
   "name": "mangrove"
  },
  "language_info": {
   "codemirror_mode": {
    "name": "ipython",
    "version": 3
   },
   "file_extension": ".py",
   "mimetype": "text/x-python",
   "name": "python",
   "nbconvert_exporter": "python",
   "pygments_lexer": "ipython3",
   "version": "3.11.4"
  }
 },
 "nbformat": 4,
 "nbformat_minor": 5
}
