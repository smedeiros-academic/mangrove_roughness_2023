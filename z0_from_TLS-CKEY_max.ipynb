{
 "cells": [
  {
   "cell_type": "code",
   "execution_count": 1,
   "id": "ef5ed08a",
   "metadata": {},
   "outputs": [],
   "source": [
    "import numpy as np\n",
    "import pandas as pd\n",
    "import matplotlib.pyplot as plt\n",
    "import time"
   ]
  },
  {
   "cell_type": "code",
   "execution_count": 2,
   "id": "960cc6c4",
   "metadata": {},
   "outputs": [],
   "source": [
    "df = pd.read_csv(\"CKEY_TLS_10x10.xyzch\")"
   ]
  },
  {
   "cell_type": "code",
   "execution_count": 3,
   "id": "2e81bfe1",
   "metadata": {},
   "outputs": [
    {
     "data": {
      "text/html": [
       "<div>\n",
       "<style scoped>\n",
       "    .dataframe tbody tr th:only-of-type {\n",
       "        vertical-align: middle;\n",
       "    }\n",
       "\n",
       "    .dataframe tbody tr th {\n",
       "        vertical-align: top;\n",
       "    }\n",
       "\n",
       "    .dataframe thead th {\n",
       "        text-align: right;\n",
       "    }\n",
       "</style>\n",
       "<table border=\"1\" class=\"dataframe\">\n",
       "  <thead>\n",
       "    <tr style=\"text-align: right;\">\n",
       "      <th></th>\n",
       "      <th>X</th>\n",
       "      <th>Y</th>\n",
       "      <th>Z</th>\n",
       "      <th>Classification</th>\n",
       "      <th>HeightAboveGround</th>\n",
       "    </tr>\n",
       "  </thead>\n",
       "  <tbody>\n",
       "    <tr>\n",
       "      <th>6305075</th>\n",
       "      <td>236361.987</td>\n",
       "      <td>172960.323</td>\n",
       "      <td>-1.263</td>\n",
       "      <td>2.0</td>\n",
       "      <td>0.000</td>\n",
       "    </tr>\n",
       "    <tr>\n",
       "      <th>2673899</th>\n",
       "      <td>236361.033</td>\n",
       "      <td>172961.005</td>\n",
       "      <td>1.593</td>\n",
       "      <td>1.0</td>\n",
       "      <td>2.940</td>\n",
       "    </tr>\n",
       "    <tr>\n",
       "      <th>16465826</th>\n",
       "      <td>236361.345</td>\n",
       "      <td>172960.145</td>\n",
       "      <td>2.830</td>\n",
       "      <td>1.0</td>\n",
       "      <td>3.724</td>\n",
       "    </tr>\n",
       "    <tr>\n",
       "      <th>13420580</th>\n",
       "      <td>236360.613</td>\n",
       "      <td>172959.976</td>\n",
       "      <td>3.300</td>\n",
       "      <td>1.0</td>\n",
       "      <td>4.307</td>\n",
       "    </tr>\n",
       "    <tr>\n",
       "      <th>28616257</th>\n",
       "      <td>236357.635</td>\n",
       "      <td>172956.193</td>\n",
       "      <td>-1.398</td>\n",
       "      <td>2.0</td>\n",
       "      <td>0.000</td>\n",
       "    </tr>\n",
       "    <tr>\n",
       "      <th>32872463</th>\n",
       "      <td>236355.457</td>\n",
       "      <td>172955.858</td>\n",
       "      <td>3.127</td>\n",
       "      <td>1.0</td>\n",
       "      <td>4.468</td>\n",
       "    </tr>\n",
       "    <tr>\n",
       "      <th>2203974</th>\n",
       "      <td>236361.118</td>\n",
       "      <td>172960.993</td>\n",
       "      <td>1.505</td>\n",
       "      <td>1.0</td>\n",
       "      <td>2.847</td>\n",
       "    </tr>\n",
       "    <tr>\n",
       "      <th>34289781</th>\n",
       "      <td>236353.583</td>\n",
       "      <td>172957.128</td>\n",
       "      <td>1.922</td>\n",
       "      <td>1.0</td>\n",
       "      <td>3.281</td>\n",
       "    </tr>\n",
       "    <tr>\n",
       "      <th>37247834</th>\n",
       "      <td>236355.394</td>\n",
       "      <td>172957.353</td>\n",
       "      <td>2.838</td>\n",
       "      <td>1.0</td>\n",
       "      <td>4.005</td>\n",
       "    </tr>\n",
       "    <tr>\n",
       "      <th>3854838</th>\n",
       "      <td>236360.784</td>\n",
       "      <td>172957.953</td>\n",
       "      <td>-0.823</td>\n",
       "      <td>2.0</td>\n",
       "      <td>0.000</td>\n",
       "    </tr>\n",
       "  </tbody>\n",
       "</table>\n",
       "</div>"
      ],
      "text/plain": [
       "                   X           Y      Z  Classification  HeightAboveGround\n",
       "6305075   236361.987  172960.323 -1.263             2.0              0.000\n",
       "2673899   236361.033  172961.005  1.593             1.0              2.940\n",
       "16465826  236361.345  172960.145  2.830             1.0              3.724\n",
       "13420580  236360.613  172959.976  3.300             1.0              4.307\n",
       "28616257  236357.635  172956.193 -1.398             2.0              0.000\n",
       "32872463  236355.457  172955.858  3.127             1.0              4.468\n",
       "2203974   236361.118  172960.993  1.505             1.0              2.847\n",
       "34289781  236353.583  172957.128  1.922             1.0              3.281\n",
       "37247834  236355.394  172957.353  2.838             1.0              4.005\n",
       "3854838   236360.784  172957.953 -0.823             2.0              0.000"
      ]
     },
     "execution_count": 3,
     "metadata": {},
     "output_type": "execute_result"
    }
   ],
   "source": [
    "df.sample(10)"
   ]
  },
  {
   "cell_type": "code",
   "execution_count": 4,
   "id": "d9b8d455",
   "metadata": {},
   "outputs": [
    {
     "data": {
      "text/plain": [
       "38463608"
      ]
     },
     "execution_count": 4,
     "metadata": {},
     "output_type": "execute_result"
    }
   ],
   "source": [
    "df.count()[0]"
   ]
  },
  {
   "cell_type": "code",
   "execution_count": 5,
   "id": "c4280ac5",
   "metadata": {},
   "outputs": [],
   "source": [
    "df = df.sample(30000000)"
   ]
  },
  {
   "cell_type": "code",
   "execution_count": 6,
   "id": "87049c99",
   "metadata": {},
   "outputs": [
    {
     "data": {
      "text/plain": [
       "30000000"
      ]
     },
     "execution_count": 6,
     "metadata": {},
     "output_type": "execute_result"
    }
   ],
   "source": [
    "df.count()[0]"
   ]
  },
  {
   "cell_type": "code",
   "execution_count": 7,
   "id": "232c7650",
   "metadata": {},
   "outputs": [
    {
     "name": "stdout",
     "output_type": "stream",
     "text": [
      "236362.41 236352.41 172964.91 172954.91 8.982 -1.54\n"
     ]
    }
   ],
   "source": [
    "x_max = df.X.max()\n",
    "x_min = df.X.min()\n",
    "y_max = df.Y.max()\n",
    "y_min = df.Y.min()\n",
    "z_max = df.Z.max()\n",
    "z_min = df.Z.min()\n",
    "print(x_max, x_min, y_max, y_min, z_max, z_min)"
   ]
  },
  {
   "cell_type": "code",
   "execution_count": 8,
   "id": "2aa24c92",
   "metadata": {},
   "outputs": [
    {
     "name": "stdout",
     "output_type": "stream",
     "text": [
      "0.01 2.032 +/- 0.013 >>> took 1.0 minutes\n",
      "0.12 2.196 +/- 0.008 >>> took 11.0 minutes\n",
      "0.23 2.209 +/- 0.004 >>> took 19.0 minutes\n",
      "0.34 2.217 +/- 0.004 >>> took 24.0 minutes\n",
      "0.45 2.22 +/- 0.004 >>> took 34.0 minutes\n",
      "0.56 2.223 +/- 0.003 >>> took 40.0 minutes\n",
      "0.67 2.225 +/- 0.002 >>> took 50.0 minutes\n",
      "0.78 2.226 +/- 0.004 >>> took 58.0 minutes\n",
      "0.89 2.229 +/- 0.002 >>> took 65.0 minutes\n",
      "1.0 2.231 +/- 0.0 >>> took 7.0 minutes\n",
      "H* = 8.597059999999999   S* = 570.9757644074962   A* = 1100.0   z0 = 2.2312331387077764\n"
     ]
    }
   ],
   "source": [
    "# c = 0\n",
    "site_L = x_max - x_min\n",
    "site_W = y_max - y_min\n",
    "site_A = site_L * site_W\n",
    "voxel_dim = 1.0\n",
    "\n",
    "replicates = []\n",
    "for frac in np.around(np.linspace(0.01,1,10),2):\n",
    "    start = time.time()\n",
    "    z0_list = []\n",
    "    for rep in range(10):\n",
    "        window_max_h = []\n",
    "        voxel_count = []\n",
    "        voxels = 0\n",
    "        df_s = df.sample(frac=frac, replace=False)\n",
    "        pts = df_s.count()[0]\n",
    "        for i in np.arange(x_min, x_max, voxel_dim):\n",
    "            for j in np.arange(y_min, y_max, voxel_dim):\n",
    "                df_window = df_s[(df_s['X'].between(i, i+voxel_dim)) &\n",
    "                                 (df_s['Y'].between(j, j+voxel_dim))]\n",
    "                window_max_h.append(df_window.HeightAboveGround.max())\n",
    "                for k in np.arange(z_min, z_max, voxel_dim):\n",
    "                    df_voxel = df_s[(df_s['X'].between(i, i+voxel_dim)) &\n",
    "                                    (df_s['Y'].between(j, j+voxel_dim)) &\n",
    "                                    (df_s['Z'].between(k, k+voxel_dim))]\n",
    "                    voxel_count.append(df_voxel.count()[0])\n",
    "                    voxels += 1\n",
    "        mu = np.median([c for c in voxel_count if c != 0])\n",
    "        vi = [min(p/mu,1.0)*voxel_dim**3 for p in voxel_count]\n",
    "        S_star = np.sum(vi)\n",
    "        A_star = voxels * voxel_dim**3\n",
    "        H_star = np.mean(window_max_h)\n",
    "        z0_list.append(0.5*H_star*S_star/A_star)\n",
    "        if frac == 1.0: break\n",
    "    replicates.append([frac, z0_list, pts, pts/site_A, voxels])\n",
    "    end = time.time()\n",
    "    print(f\"{frac} {np.around(np.mean(z0_list),3)} +/- {np.around(np.std(z0_list),3)} >>> took {np.around((end - start)/60.0,0)} minutes\")\n",
    "\n",
    "# print results using densest (last) point cloud\n",
    "print(f\"H* = {H_star}   S* = {S_star}   A* = {A_star}   z0 = {0.5*H_star*S_star/A_star}\")"
   ]
  },
  {
   "cell_type": "code",
   "execution_count": 9,
   "id": "46e554cc",
   "metadata": {},
   "outputs": [
    {
     "data": {
      "image/png": "[encoded data removed]",
      "text/plain": [
       "<Figure size 640x480 with 1 Axes>"
      ]
     },
     "metadata": {},
     "output_type": "display_data"
    }
   ],
   "source": [
    "# check plot, not for publication\n",
    "fig, ax = plt.subplots()\n",
    "ax.boxplot([y[1] for y in replicates],\n",
    "           notch=True,  # notch shape\n",
    "           vert=True,  # vertical box alignment\n",
    "           labels=[x[0] for x in replicates]);"
   ]
  },
  {
   "cell_type": "code",
   "execution_count": 11,
   "id": "098fa598",
   "metadata": {},
   "outputs": [],
   "source": [
    "# export results for plotting in another notebook\n",
    "with open('CKEY_replicates_max', 'w') as outfile:\n",
    "    outfile.write('\\n'.join(str(i) for i in replicates))\n",
    "    \n",
    "# once this was complete, commas were manually inserted in the last row (frac = 1.0)\n",
    "# so that fields r1 through r9, representing replicates 2 through 10, would match\n",
    "# the overall schema."
   ]
  }
 ],
 "metadata": {
  "kernelspec": {
   "display_name": "Python3 (mangrove)",
   "language": "python",
   "name": "mangrove"
  },
  "language_info": {
   "codemirror_mode": {
    "name": "ipython",
    "version": 3
   },
   "file_extension": ".py",
   "mimetype": "text/x-python",
   "name": "python",
   "nbconvert_exporter": "python",
   "pygments_lexer": "ipython3",
   "version": "3.11.4"
  }
 },
 "nbformat": 4,
 "nbformat_minor": 5
}
